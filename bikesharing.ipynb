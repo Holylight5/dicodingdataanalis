{
  "nbformat": 4,
  "nbformat_minor": 0,
  "metadata": {
    "colab": {
      "provenance": []
    },
    "kernelspec": {
      "name": "python3",
      "display_name": "Python 3"
    },
    "language_info": {
      "name": "python"
    }
  },
  "cells": [
    {
      "cell_type": "markdown",
      "source": [
        "# **PROYEK ANALISIS DATA: BIKE SHARING**\n",
        "\n",
        "\n",
        "*   Nama: Dirga marin Ramadhan\n",
        "*   Email: dirgamarin2@gmail.com\n",
        "*   ID dicoding: Dirga Marin Ramadhan\n",
        "\n",
        "\n",
        "\n"
      ],
      "metadata": {
        "id": "zrq-Ycff6O7v"
      }
    },
    {
      "cell_type": "markdown",
      "source": [
        "# Menentukan pertanyaan bisnis\n",
        "\n",
        "\n",
        "*   Apakah bulan dengan banyak hari libur memiliki lebih banyak penggunaan sepeda?\n",
        "*   Pengguna sepeda lebih terpengaruh oleh suhu atau kecepatan angin?\n",
        "*   Diantara keduanya mana yang paling banyak menggunakan sepeda, pengguna terdaftar atau tidak terdaftar?\n",
        "*   Di musim apa sepeda paling banyak di rental?\n"
      ],
      "metadata": {
        "id": "LbTpNrli6_sN"
      }
    },
    {
      "cell_type": "markdown",
      "source": [
        "## Import library"
      ],
      "metadata": {
        "id": "g-BjSTCi9Uw8"
      }
    },
    {
      "cell_type": "code",
      "execution_count": null,
      "metadata": {
        "id": "mValyAFW6Mag"
      },
      "outputs": [],
      "source": [
        "import numpy as np\n",
        "import pandas as pd\n",
        "import zipfile\n",
        "import matplotlib.pyplot as plt\n",
        "import seaborn as sns\n",
        "import plotly.express as px\n",
        "import plotly.graph_objects as go\n",
        "from plotly.subplots import make_subplots"
      ]
    },
    {
      "cell_type": "markdown",
      "source": [
        "# DATA WRANGLING"
      ],
      "metadata": {
        "id": "z9lskYEk_PMS"
      }
    },
    {
      "cell_type": "markdown",
      "source": [
        "# Gathering Data"
      ],
      "metadata": {
        "id": "_yCV68nZ_dOq"
      }
    },
    {
      "cell_type": "code",
      "source": [
        "# Mengambil data dari google drive\n",
        "!gdown 1RaBmV6Q6FYWU4HWZs80Suqd7KQC34diQ"
      ],
      "metadata": {
        "id": "gxWfyObj_k2R"
      },
      "execution_count": null,
      "outputs": []
    },
    {
      "cell_type": "code",
      "source": [
        "#Mengekstrak file zip\n",
        "content = 'Bike-sharing-dataset.zip'\n",
        "zip = zipfile.ZipFile(content, 'r')\n",
        "zip.extractall('data/')\n",
        "zip.close()"
      ],
      "metadata": {
        "id": "kzQ9WtX2OarQ"
      },
      "execution_count": null,
      "outputs": []
    },
    {
      "cell_type": "markdown",
      "source": [
        "# Load Data"
      ],
      "metadata": {
        "id": "kiTLLFbXO4Uh"
      }
    },
    {
      "cell_type": "code",
      "source": [
        "#Load data hour menjadi tabel\n",
        "dfh = pd.read_csv(\"data/hour.csv\")\n",
        "dfh"
      ],
      "metadata": {
        "id": "GNx8EW5jO8BL"
      },
      "execution_count": null,
      "outputs": []
    },
    {
      "cell_type": "code",
      "source": [
        "#Load data day menjadi tabel\n",
        "dfd = pd.read_csv(\"data/day.csv\")\n",
        "dfd"
      ],
      "metadata": {
        "id": "L36LosOmQE9P"
      },
      "execution_count": null,
      "outputs": []
    },
    {
      "cell_type": "markdown",
      "source": [
        "# Data Assesing"
      ],
      "metadata": {
        "id": "TuphcWnsQOvv"
      }
    },
    {
      "cell_type": "code",
      "source": [
        "#Mencari missing value\n",
        "missing_values = dfh.isnull().sum()\n",
        "missing_values"
      ],
      "metadata": {
        "id": "hd9WOdLTS9ic"
      },
      "execution_count": null,
      "outputs": []
    },
    {
      "cell_type": "code",
      "source": [
        "missing_values = dfd.isnull().sum()\n",
        "missing_values"
      ],
      "metadata": {
        "id": "5c4XGLm6kgKx"
      },
      "execution_count": null,
      "outputs": []
    },
    {
      "cell_type": "code",
      "source": [
        "#Mencari data duplikat\n",
        "duplicate_rows = dfh.duplicated().sum()\n",
        "duplicate_rows"
      ],
      "metadata": {
        "id": "iNMtTdfOlAih"
      },
      "execution_count": null,
      "outputs": []
    },
    {
      "cell_type": "code",
      "source": [
        "duplicate_rows = dfd.duplicated().sum()\n",
        "duplicate_rows"
      ],
      "metadata": {
        "id": "0FgasAyKlAWD"
      },
      "execution_count": null,
      "outputs": []
    },
    {
      "cell_type": "code",
      "source": [
        "#Menampilkan statistik deskriptif data file hour\n",
        "dfh.describe()"
      ],
      "metadata": {
        "id": "xP1M-YCtl0hD"
      },
      "execution_count": null,
      "outputs": []
    },
    {
      "cell_type": "code",
      "source": [
        "#Menampilkan statistik deskriptif data file day\n",
        "dfd.describe()"
      ],
      "metadata": {
        "id": "sccSw7tNl0q6"
      },
      "execution_count": null,
      "outputs": []
    },
    {
      "cell_type": "markdown",
      "source": [
        "# Data Cleaning\n"
      ],
      "metadata": {
        "id": "oRuFczy4mR__"
      }
    },
    {
      "cell_type": "code",
      "source": [
        "# Merubah nama kolom\n",
        "dfh.rename(columns={'yr':'year',\n",
        "                    'mnth':'month',\n",
        "                    'hum':'humidity',\n",
        "                    'cnt':'count',\n",
        "                    'dteday':'Datetime',\n",
        "                    'hr':'Hour'\n",
        "                    }, inplace=True)\n",
        "\n",
        "# Merubah huruf awal kolom menjadi kapital\n",
        "dfh.columns = dfh.columns.str.title()\n",
        "\n",
        "\n",
        "dfh"
      ],
      "metadata": {
        "id": "0buEQFcPmVsv"
      },
      "execution_count": null,
      "outputs": []
    },
    {
      "cell_type": "code",
      "source": [
        "# Merubah nama kolom\n",
        "dfd.rename(columns={'yr':'year',\n",
        "                    'mnth':'month',\n",
        "                    'hum':'humidity',\n",
        "                    'cnt':'count',\n",
        "                    'dteday':'Datetime'\n",
        "                    }, inplace=True)\n",
        "\n",
        "# Merubah huruf awal kolom menjadi kapital\n",
        "dfd.columns = dfd.columns.str.title()\n",
        "\n",
        "# Mengubah kolom datetime menjadi indeks\n",
        "dfd['Datetime'] = pd.to_datetime(dfd['Datetime'])\n",
        "dfd.set_index('Datetime', inplace=True)\n",
        "\n",
        "dfd"
      ],
      "metadata": {
        "id": "b5lvYfw3qjP-"
      },
      "execution_count": null,
      "outputs": []
    },
    {
      "cell_type": "markdown",
      "source": [
        "# EDA"
      ],
      "metadata": {
        "id": "AOmo8xOxsIH-"
      }
    },
    {
      "cell_type": "code",
      "source": [
        "#Apakah bulan dengan banyak hari libur memiliki lebih banyak penggunaan sepeda?\n",
        "dfd.groupby(by=[\"Year\", \"Month\"]).agg({\n",
        "    \"Holiday\": \"sum\",\n",
        "    \"Workingday\": \"sum\",\n",
        "    \"Count\": \"sum\"\n",
        "})"
      ],
      "metadata": {
        "id": "G1QoqY0AsKHa"
      },
      "execution_count": null,
      "outputs": []
    },
    {
      "cell_type": "code",
      "source": [
        "#Apakah pengguna sepeda lebih terpengaruh oleh suhu atau kecepatan angin?\n",
        "correlation_weather = dfd[['Temp', 'Windspeed', 'Count']].corr()\n",
        "\n",
        "correlation_weather['Count'].sort_values(ascending=True)"
      ],
      "metadata": {
        "id": "XhZ0sYSjAlxc"
      },
      "execution_count": null,
      "outputs": []
    },
    {
      "cell_type": "code",
      "source": [
        "#Diantara keduanya mana yang paling banyak menggunakan sepeda, pengguna terdaftar atau tidak terdaftar?\n",
        "dfd.groupby(by=\"Year\").agg({\"Registered\": \"sum\",\"Casual\": \"sum\"})"
      ],
      "metadata": {
        "id": "kgZ_cE3QCVJF"
      },
      "execution_count": null,
      "outputs": []
    },
    {
      "cell_type": "markdown",
      "source": [
        "Musim\n",
        "\n",
        "\n",
        "*   1 : Spring\n",
        "*   2 : Summer\n",
        "\n",
        "*   3 : Fall\n",
        "*   4 : Winter\n",
        "\n",
        "\n"
      ],
      "metadata": {
        "id": "4-6UfyaqEZ-a"
      }
    },
    {
      "cell_type": "code",
      "source": [
        "#Di musim apa sepeda paling banyak di rental?\n",
        "dfd.groupby('Season').Count.sum().sort_values(ascending=False)"
      ],
      "metadata": {
        "id": "QvM4G3RBDgfi"
      },
      "execution_count": null,
      "outputs": []
    },
    {
      "cell_type": "markdown",
      "metadata": {
        "id": "zsyZjqak8DC2"
      },
      "source": [
        "## Visualization & Explanatory Analysis"
      ]
    },
    {
      "cell_type": "markdown",
      "source": [
        "No 1\n",
        "Apakah bulan dengan banyak hari libur memiliki lebih banyak penggunaan seped"
      ],
      "metadata": {
        "id": "QZdDgKZgWrSU"
      }
    },
    {
      "cell_type": "code",
      "source": [
        "#Apakah bulan dengan banyak hari libur memiliki lebih banyak penggunaan sepeda\n",
        "grouped_data = dfd.groupby(by=[\"Year\", \"Month\"]).agg({\n",
        "    \"Holiday\": \"sum\",\n",
        "    \"Workingday\": \"sum\",\n",
        "    \"Count\": \"sum\"\n",
        "}).reset_index()\n",
        "\n",
        "plt.figure(figsize=(10, 6))\n",
        "sns.scatterplot(x='Holiday', y='Count', data=grouped_data, hue='Month', palette='tab20', s=100)\n",
        "\n",
        "# Menambahkan judul dan label\n",
        "plt.title('Hubungan Antara Jumlah Hari Libur dan Penggunaan Sepeda per Bulan')\n",
        "plt.xlabel('Jumlah Hari Libur')\n",
        "plt.ylabel('Jumlah Penggunaan Sepeda')\n",
        "\n",
        "# Menampilkan legenda untuk bulan\n",
        "plt.legend(title='Month', bbox_to_anchor=(1.05, 1), loc='upper left')\n",
        "\n",
        "# Menampilkan plot\n",
        "plt.tight_layout()\n",
        "plt.show()"
      ],
      "metadata": {
        "id": "liSRrACAFKMi"
      },
      "execution_count": null,
      "outputs": []
    },
    {
      "cell_type": "markdown",
      "source": [
        "Dilihat dari hasil visualisasi data diatas, banyaknya hari libur tidak menentukan banyaknya pengguna sepeda pada bulan tersebut."
      ],
      "metadata": {
        "id": "tGAw6q4nrpfm"
      }
    },
    {
      "cell_type": "markdown",
      "source": [
        "No 2 Apakah pengguna sepeda lebih terpengaruh oleh suhu atau kecepatan angin?"
      ],
      "metadata": {
        "id": "_-MbwmhcWxNP"
      }
    },
    {
      "cell_type": "code",
      "source": [
        "#Apakah pengguna sepeda lebih terpengaruh oleh suhu atau kecepatan angin?\n",
        "correlation_weather = dfd[['Temp', 'Windspeed', 'Count']].corr()\n",
        "\n",
        "# Membuat heatmap untuk melihat korelasi antar variabel\n",
        "plt.figure(figsize=(8, 6))\n",
        "sns.heatmap(correlation_weather, annot=True, cmap='coolwarm', vmin=-1, vmax=1)\n",
        "plt.title('Heatmap Korelasi Antara Suhu, Kecepatan Angin, dan Penggunaan Sepeda')\n",
        "plt.show()"
      ],
      "metadata": {
        "id": "8lj_-nDVRQv0"
      },
      "execution_count": null,
      "outputs": []
    },
    {
      "cell_type": "code",
      "source": [
        "# Membuat figure dan axis untuk plot\n",
        "plt.figure(figsize=(12, 6))\n",
        "\n",
        "# Scatter plot untuk suhu vs penggunaan sepeda\n",
        "plt.subplot(1, 2, 1)  # 1 baris, 2 kolom, plot pertama\n",
        "sns.scatterplot(x='Temp', y='Count', data=dfd, color='blue')\n",
        "plt.title('Hubungan antara Suhu dan Penggunaan Sepeda')\n",
        "plt.xlabel('Suhu (Temp)')\n",
        "plt.ylabel('Jumlah Penggunaan Sepeda (Count)')\n",
        "\n",
        "# Scatter plot untuk kecepatan angin vs penggunaan sepeda\n",
        "plt.subplot(1, 2, 2)  # 1 baris, 2 kolom, plot kedua\n",
        "sns.scatterplot(x='Windspeed', y='Count', data=dfd, color='red')\n",
        "plt.title('Hubungan antara Kecepatan Angin dan Penggunaan Sepeda')\n",
        "plt.xlabel('Kecepatan Angin (Windspeed)')\n",
        "plt.ylabel('Jumlah Penggunaan Sepeda (Count)')\n",
        "\n",
        "# Menambahkan layout yang lebih rapat\n",
        "plt.tight_layout()\n",
        "\n",
        "# Menampilkan plot\n",
        "plt.show()"
      ],
      "metadata": {
        "id": "Z9qfOpnwX86m"
      },
      "execution_count": null,
      "outputs": []
    },
    {
      "cell_type": "markdown",
      "source": [
        "Bedasarkan diagram diatas dapat disimpulkan bahwa suhu dan kecepatan angin berpengaruh pada banyaknya pengguna sepeda. Pada bagian suhu semakin nilai suhunya kecil maka pengguna sepeda sedikit. Sementara pada kecepatan angin pengguna sepeda tidak terlalu berpengaruh besar dengan banyaknya pengguna sepeda."
      ],
      "metadata": {
        "id": "ozWBgF0eOrkV"
      }
    },
    {
      "cell_type": "markdown",
      "source": [
        "No 3 Diantara keduanya mana yang paling banyak menggunakan sepeda, pengguna terdaftar atau tidak terdaftar?"
      ],
      "metadata": {
        "id": "v8E7Xu35W1SN"
      }
    },
    {
      "cell_type": "code",
      "source": [
        "# Menjumlahkan total pengguna terdaftar dan tidak terdaftar di seluruh dataset\n",
        "total_data = dfd[['Registered', 'Casual']].sum().reset_index()\n",
        "total_data.columns = ['User Type', 'Total']\n",
        "\n",
        "# Membuat plot\n",
        "plt.figure(figsize=(8, 6))\n",
        "\n",
        "# Membuat bar plot untuk menampilkan total pengguna terdaftar dan tidak terdaftar\n",
        "sns.barplot(x='User Type', y='Total', data=total_data, palette='viridis')\n",
        "\n",
        "# Menambahkan judul dan label\n",
        "plt.title('Total Penggunaan Sepeda: Terdaftar vs Tidak Terdaftar', fontsize=14)\n",
        "plt.xlabel('Tipe Pengguna')\n",
        "plt.ylabel('Jumlah Pengguna Sepeda (Data Asli)')\n",
        "\n",
        "# Menampilkan plot\n",
        "plt.tight_layout()\n",
        "plt.show()"
      ],
      "metadata": {
        "id": "BO3SEId3WgUs"
      },
      "execution_count": null,
      "outputs": []
    },
    {
      "cell_type": "markdown",
      "source": [
        "Dari data diatas dapat disimpulkan bahwa pengguna paling banyak didapatkan oleh pengguna yang terdaftar dengan total pengguna lebih dari 2,5jt."
      ],
      "metadata": {
        "id": "mN5dgSKiXa4q"
      }
    },
    {
      "cell_type": "markdown",
      "source": [
        "No 4 Di musim apa sepeda paling banyak di rental?"
      ],
      "metadata": {
        "id": "K4R7kzQUXLid"
      }
    },
    {
      "cell_type": "code",
      "source": [
        "# Mengelompokkan data berdasarkan musim dan menghitung total pengguna\n",
        "seasonal_rentals = dfd.groupby('Season').agg({'Count': 'sum'}).sort_values('Count', ascending=False)\n",
        "\n",
        "# Membuat visualisasi bar plot untuk perbandingan jumlah sepeda yang disewa per musim\n",
        "plt.figure(figsize=(8, 6))\n",
        "sns.barplot(x=seasonal_rentals.index, y=seasonal_rentals['Count'], palette='viridis')\n",
        "\n",
        "# Menambahkan judul dan label\n",
        "plt.title('Jumlah Sepeda yang Disewa per Musim', fontsize=14)\n",
        "plt.xlabel('Musim')\n",
        "plt.ylabel('Jumlah Pengguna Sepeda')\n",
        "\n",
        "# Mengatur format sumbu y agar menampilkan angka ribuan\n",
        "plt.gca().get_yaxis().set_major_formatter(plt.FuncFormatter(lambda x, loc: f\"{int(x):,}\"))\n",
        "\n",
        "# Menampilkan plot\n",
        "plt.tight_layout()\n",
        "plt.show()"
      ],
      "metadata": {
        "id": "e7CjVEZuXO8N"
      },
      "execution_count": null,
      "outputs": []
    },
    {
      "cell_type": "markdown",
      "source": [
        "Dari data diatas menunjukan bahwa pengguna sepeda paling banyak pada musim gugur, bisa jadi karena cuaca di musim gugur yang sejuk dengan pemandangan gugurnya daun pohon yang membuat kesan romantis."
      ],
      "metadata": {
        "id": "eKgrFt5Yf6Jh"
      }
    }
  ]
}